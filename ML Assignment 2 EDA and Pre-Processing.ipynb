{
 "cells": [
  {
   "cell_type": "code",
   "execution_count": 1,
   "id": "07a2485d",
   "metadata": {},
   "outputs": [],
   "source": [
    "import pandas as pd\n",
    "import numpy as np\n",
    "import seaborn as sns\n",
    "import matplotlib.pyplot as plt\n",
    "from sklearn.preprocessing import LabelEncoder, OneHotEncoder, StandardScaler, MinMaxScaler"
   ]
  },
  {
   "cell_type": "code",
   "execution_count": 5,
   "id": "baea3df3",
   "metadata": {},
   "outputs": [
    {
     "data": {
      "text/html": [
       "<div>\n",
       "<style scoped>\n",
       "    .dataframe tbody tr th:only-of-type {\n",
       "        vertical-align: middle;\n",
       "    }\n",
       "\n",
       "    .dataframe tbody tr th {\n",
       "        vertical-align: top;\n",
       "    }\n",
       "\n",
       "    .dataframe thead th {\n",
       "        text-align: right;\n",
       "    }\n",
       "</style>\n",
       "<table border=\"1\" class=\"dataframe\">\n",
       "  <thead>\n",
       "    <tr style=\"text-align: right;\">\n",
       "      <th></th>\n",
       "      <th>Company</th>\n",
       "      <th>Age</th>\n",
       "      <th>Salary</th>\n",
       "      <th>Place</th>\n",
       "      <th>Country</th>\n",
       "      <th>Gender</th>\n",
       "    </tr>\n",
       "  </thead>\n",
       "  <tbody>\n",
       "    <tr>\n",
       "      <th>0</th>\n",
       "      <td>TCS</td>\n",
       "      <td>20.0</td>\n",
       "      <td>NaN</td>\n",
       "      <td>Chennai</td>\n",
       "      <td>India</td>\n",
       "      <td>0</td>\n",
       "    </tr>\n",
       "    <tr>\n",
       "      <th>1</th>\n",
       "      <td>Infosys</td>\n",
       "      <td>30.0</td>\n",
       "      <td>NaN</td>\n",
       "      <td>Mumbai</td>\n",
       "      <td>India</td>\n",
       "      <td>0</td>\n",
       "    </tr>\n",
       "    <tr>\n",
       "      <th>2</th>\n",
       "      <td>TCS</td>\n",
       "      <td>35.0</td>\n",
       "      <td>2300.0</td>\n",
       "      <td>Calcutta</td>\n",
       "      <td>India</td>\n",
       "      <td>0</td>\n",
       "    </tr>\n",
       "    <tr>\n",
       "      <th>3</th>\n",
       "      <td>Infosys</td>\n",
       "      <td>40.0</td>\n",
       "      <td>3000.0</td>\n",
       "      <td>Delhi</td>\n",
       "      <td>India</td>\n",
       "      <td>0</td>\n",
       "    </tr>\n",
       "    <tr>\n",
       "      <th>4</th>\n",
       "      <td>TCS</td>\n",
       "      <td>23.0</td>\n",
       "      <td>4000.0</td>\n",
       "      <td>Mumbai</td>\n",
       "      <td>India</td>\n",
       "      <td>0</td>\n",
       "    </tr>\n",
       "    <tr>\n",
       "      <th>...</th>\n",
       "      <td>...</td>\n",
       "      <td>...</td>\n",
       "      <td>...</td>\n",
       "      <td>...</td>\n",
       "      <td>...</td>\n",
       "      <td>...</td>\n",
       "    </tr>\n",
       "    <tr>\n",
       "      <th>143</th>\n",
       "      <td>TCS</td>\n",
       "      <td>33.0</td>\n",
       "      <td>9024.0</td>\n",
       "      <td>Calcutta</td>\n",
       "      <td>India</td>\n",
       "      <td>1</td>\n",
       "    </tr>\n",
       "    <tr>\n",
       "      <th>144</th>\n",
       "      <td>Infosys</td>\n",
       "      <td>22.0</td>\n",
       "      <td>8787.0</td>\n",
       "      <td>Calcutta</td>\n",
       "      <td>India</td>\n",
       "      <td>1</td>\n",
       "    </tr>\n",
       "    <tr>\n",
       "      <th>145</th>\n",
       "      <td>Infosys</td>\n",
       "      <td>44.0</td>\n",
       "      <td>4034.0</td>\n",
       "      <td>Delhi</td>\n",
       "      <td>India</td>\n",
       "      <td>1</td>\n",
       "    </tr>\n",
       "    <tr>\n",
       "      <th>146</th>\n",
       "      <td>TCS</td>\n",
       "      <td>33.0</td>\n",
       "      <td>5034.0</td>\n",
       "      <td>Mumbai</td>\n",
       "      <td>India</td>\n",
       "      <td>1</td>\n",
       "    </tr>\n",
       "    <tr>\n",
       "      <th>147</th>\n",
       "      <td>Infosys</td>\n",
       "      <td>22.0</td>\n",
       "      <td>8202.0</td>\n",
       "      <td>Cochin</td>\n",
       "      <td>India</td>\n",
       "      <td>0</td>\n",
       "    </tr>\n",
       "  </tbody>\n",
       "</table>\n",
       "<p>148 rows × 6 columns</p>\n",
       "</div>"
      ],
      "text/plain": [
       "     Company   Age  Salary     Place Country  Gender\n",
       "0        TCS  20.0     NaN   Chennai   India       0\n",
       "1    Infosys  30.0     NaN    Mumbai   India       0\n",
       "2        TCS  35.0  2300.0  Calcutta   India       0\n",
       "3    Infosys  40.0  3000.0     Delhi   India       0\n",
       "4        TCS  23.0  4000.0    Mumbai   India       0\n",
       "..       ...   ...     ...       ...     ...     ...\n",
       "143      TCS  33.0  9024.0  Calcutta   India       1\n",
       "144  Infosys  22.0  8787.0  Calcutta   India       1\n",
       "145  Infosys  44.0  4034.0     Delhi   India       1\n",
       "146      TCS  33.0  5034.0    Mumbai   India       1\n",
       "147  Infosys  22.0  8202.0    Cochin   India       0\n",
       "\n",
       "[148 rows x 6 columns]"
      ]
     },
     "execution_count": 5,
     "metadata": {},
     "output_type": "execute_result"
    }
   ],
   "source": [
    "df = pd.read_csv(\"C:\\\\Users\\\\INTERFACE\\\\OneDrive\\\\Desktop\\\\ENTRI ASSIGNMENT\\\\ML\\\\Employee.csv\")\n",
    "df"
   ]
  },
  {
   "cell_type": "markdown",
   "id": "748fcac3",
   "metadata": {},
   "source": [
    "# Data Exploration"
   ]
  },
  {
   "cell_type": "code",
   "execution_count": 7,
   "id": "318850c1",
   "metadata": {},
   "outputs": [
    {
     "name": "stdout",
     "output_type": "stream",
     "text": [
      "\n",
      "Data Exploration\n",
      "Shape: (148, 6)\n",
      "\n",
      "Unique values in each column:\n",
      "company (7 unique): ['TCS' 'Infosys' 'CTS' nan 'Tata Consultancy Services' 'Congnizant'\n",
      " 'Infosys Pvt Lmt']\n",
      "age (30 unique): [20. 30. 35. 40. 23. nan 34. 45. 18. 22. 32. 37. 50. 21. 46. 36. 26. 41.\n",
      " 24. 25. 43. 19. 38. 51. 31. 44. 33. 17.  0. 54.]\n",
      "salary (41 unique): [  nan 2300. 3000. 4000. 5000. 6000. 7000. 8000. 9000. 1089. 1234. 3030.\n",
      " 3045. 3184. 4824. 5835. 7084. 8943. 8345. 9284. 9876. 2034. 7654. 2934.\n",
      " 4034. 5034. 8202. 9024. 4345. 6544. 6543. 3234. 4324. 5435. 5555. 8787.\n",
      " 3454. 5654. 5009. 5098. 3033.]\n",
      "place (12 unique): ['Chennai' 'Mumbai' 'Calcutta' 'Delhi' 'Podicherry' 'Cochin' nan 'Noida'\n",
      " 'Hyderabad' 'Bhopal' 'Nagpur' 'Pune']\n",
      "country (1 unique): ['India']\n",
      "gender (2 unique): [0 1]\n",
      "\n",
      "Statistical Summary:\n",
      "       company         age       salary   place country      gender\n",
      "count      140  130.000000   124.000000     134     148  148.000000\n",
      "unique       6         NaN          NaN      11       1         NaN\n",
      "top        TCS         NaN          NaN  Mumbai   India         NaN\n",
      "freq        53         NaN          NaN      37     148         NaN\n",
      "mean       NaN   30.484615  5312.467742     NaN     NaN    0.222973\n",
      "std        NaN   11.096640  2573.764683     NaN     NaN    0.417654\n",
      "min        NaN    0.000000  1089.000000     NaN     NaN    0.000000\n",
      "25%        NaN   22.000000  3030.000000     NaN     NaN    0.000000\n",
      "50%        NaN   32.500000  5000.000000     NaN     NaN    0.000000\n",
      "75%        NaN   37.750000  8000.000000     NaN     NaN    0.000000\n",
      "max        NaN   54.000000  9876.000000     NaN     NaN    1.000000\n",
      "\n",
      "Renamed Columns: ['company', 'age', 'salary', 'place', 'country', 'gender']\n"
     ]
    }
   ],
   "source": [
    "print(\"\\nData Exploration\")\n",
    "print(\"Shape:\", df.shape)\n",
    "print(\"\\nUnique values in each column:\")\n",
    "for col in df.columns:\n",
    "    print(f\"{col} ({len(df[col].unique())} unique): {df[col].unique()}\")\n",
    "\n",
    "print(\"\\nStatistical Summary:\")\n",
    "print(df.describe(include='all'))\n",
    "\n",
    "df.columns = [col.strip().lower().replace(\" \", \"_\") for col in df.columns]\n",
    "print(\"\\nRenamed Columns:\", df.columns.tolist())"
   ]
  },
  {
   "cell_type": "markdown",
   "id": "ca0eb536",
   "metadata": {},
   "source": [
    "# Data Cleaning"
   ]
  },
  {
   "cell_type": "code",
   "execution_count": 8,
   "id": "7b9c933a",
   "metadata": {},
   "outputs": [
    {
     "name": "stdout",
     "output_type": "stream",
     "text": [
      "\n",
      "Data Cleaning\n",
      "\n",
      "Missing Values Before:\n",
      "company     8\n",
      "age        24\n",
      "salary     24\n",
      "place      14\n",
      "country     0\n",
      "gender      0\n",
      "dtype: int64\n",
      "\n",
      "Total Outliers Found: 32\n"
     ]
    }
   ],
   "source": [
    "print(\"\\nData Cleaning\")\n",
    "\n",
    "# Replace age=0 with NaN\n",
    "df['age'] = df['age'].replace(0, np.nan)\n",
    "\n",
    "# To show missing values\n",
    "print(\"\\nMissing Values Before:\")\n",
    "print(df.isnull().sum())\n",
    "\n",
    "# Fill NaNs with appropriate methods\n",
    "df.fillna(df.median(numeric_only=True), inplace=True)\n",
    "for col in df.select_dtypes(include='object'):\n",
    "    df[col].fillna(df[col].mode()[0], inplace=True)\n",
    "\n",
    "# Remove duplicates\n",
    "df.drop_duplicates(inplace=True)\n",
    "\n",
    "# Outlier detection using IQR\n",
    "def detect_outliers_iqr(data, col):\n",
    "    Q1 = data[col].quantile(0.25)\n",
    "    Q3 = data[col].quantile(0.75)\n",
    "    IQR = Q3 - Q1\n",
    "    return data[(data[col] < (Q1 - 1.5 * IQR)) | (data[col] > (Q3 + 1.5 * IQR))]\n",
    "\n",
    "outliers = pd.concat([detect_outliers_iqr(df, col) for col in df.select_dtypes(include=np.number)], axis=0)\n",
    "print(f\"\\nTotal Outliers Found: {len(outliers)}\")"
   ]
  },
  {
   "cell_type": "markdown",
   "id": "05e8b88f",
   "metadata": {},
   "source": [
    "# Data Analysis"
   ]
  },
  {
   "cell_type": "code",
   "execution_count": 9,
   "id": "4f5dd803",
   "metadata": {},
   "outputs": [
    {
     "name": "stdout",
     "output_type": "stream",
     "text": [
      "\n",
      "Data Analysis\n"
     ]
    },
    {
     "data": {
      "image/png": "[encoded data removed]",
      "text/plain": [
       "<Figure size 800x500 with 1 Axes>"
      ]
     },
     "metadata": {},
     "output_type": "display_data"
    },
    {
     "name": "stdout",
     "output_type": "stream",
     "text": [
      "\n",
      "People Count by Place:\n",
      " Mumbai        48\n",
      "Calcutta      32\n",
      "Chennai       14\n",
      "Delhi         14\n",
      "Cochin        13\n",
      "Noida          8\n",
      "Hyderabad      8\n",
      "Podicherry     3\n",
      "Pune           2\n",
      "Bhopal         1\n",
      "Nagpur         1\n",
      "Name: place, dtype: int64\n"
     ]
    },
    {
     "data": {
      "image/png": "[encoded data removed]",
      "text/plain": [
       "<Figure size 1000x600 with 1 Axes>"
      ]
     },
     "metadata": {},
     "output_type": "display_data"
    }
   ],
   "source": [
    "print(\"\\nData Analysis\")\n",
    "filtered_df = df[(df['age'] > 40) & (df['salary'] < 5000)]\n",
    "\n",
    "# Plot Age vs Salary\n",
    "plt.figure(figsize=(8, 5))\n",
    "sns.scatterplot(data=filtered_df, x='age', y='salary')\n",
    "plt.title('Age vs Salary (Age > 40, Salary < 5000)')\n",
    "plt.grid(True)\n",
    "plt.show()\n",
    "\n",
    "# Count of people by place\n",
    "place_counts = df['place'].value_counts()\n",
    "print(\"\\nPeople Count by Place:\\n\", place_counts)\n",
    "\n",
    "# Bar Plot for place\n",
    "plt.figure(figsize=(10, 6))\n",
    "sns.barplot(x=place_counts.index, y=place_counts.values)\n",
    "plt.xticks(rotation=45)\n",
    "plt.title('Count of People from Each Place')\n",
    "plt.ylabel('Count')\n",
    "plt.xlabel('Place')\n",
    "plt.grid(True)\n",
    "plt.show()"
   ]
  },
  {
   "cell_type": "markdown",
   "id": "429b54d8",
   "metadata": {},
   "source": [
    "# Data Encoding"
   ]
  },
  {
   "cell_type": "code",
   "execution_count": 12,
   "id": "944f9084",
   "metadata": {},
   "outputs": [
    {
     "name": "stdout",
     "output_type": "stream",
     "text": [
      "\n",
      "Data Encoding\n"
     ]
    }
   ],
   "source": [
    "print(\"\\nData Encoding\")\n",
    "\n",
    "# Label encode binary categorical columns, one-hot encode multi-class\n",
    "label_enc = LabelEncoder()\n",
    "for col in df.select_dtypes(include='object'):\n",
    "    if df[col].nunique() == 2:\n",
    "        df[col] = label_enc.fit_transform(df[col])\n",
    "    else:\n",
    "        df = pd.get_dummies(df, columns=[col], drop_first=True)"
   ]
  },
  {
   "cell_type": "markdown",
   "id": "b4313d85",
   "metadata": {},
   "source": [
    "# Feature Scaling"
   ]
  },
  {
   "cell_type": "code",
   "execution_count": 13,
   "id": "0305624c",
   "metadata": {},
   "outputs": [
    {
     "name": "stdout",
     "output_type": "stream",
     "text": [
      "\n",
      "Feature Scaling\n",
      "Standard Scaled Data (first 5 rows):\n",
      "         age    salary    gender  company_Congnizant  company_Infosys  \\\n",
      "0 -1.484676 -0.100827 -0.534522           -0.118678        -0.652490   \n",
      "1 -0.267174 -0.100827 -0.534522           -0.118678         1.532592   \n",
      "2  0.341577 -1.243735 -0.534522           -0.118678        -0.652490   \n",
      "3  0.950328 -0.947426 -0.534522           -0.118678         1.532592   \n",
      "4 -1.119426 -0.524127 -0.534522           -0.118678        -0.652490   \n",
      "\n",
      "   company_Infosys Pvt Lmt  company_TCS  company_Tata Consultancy Services  \\\n",
      "0                -0.118678     1.183216                          -0.118678   \n",
      "1                -0.118678    -0.845154                          -0.118678   \n",
      "2                -0.118678     1.183216                          -0.118678   \n",
      "3                -0.118678    -0.845154                          -0.118678   \n",
      "4                -0.118678     1.183216                          -0.118678   \n",
      "\n",
      "   place_Calcutta  place_Chennai  place_Cochin  place_Delhi  place_Hyderabad  \\\n",
      "0       -0.534522       3.047247     -0.315018    -0.328165        -0.242536   \n",
      "1       -0.534522      -0.328165     -0.315018    -0.328165        -0.242536   \n",
      "2        1.870829      -0.328165     -0.315018    -0.328165        -0.242536   \n",
      "3       -0.534522      -0.328165     -0.315018     3.047247        -0.242536   \n",
      "4       -0.534522      -0.328165     -0.315018    -0.328165        -0.242536   \n",
      "\n",
      "   place_Mumbai  place_Nagpur  place_Noida  place_Podicherry  place_Pune  \n",
      "0     -0.707107     -0.083624    -0.242536         -0.145865   -0.118678  \n",
      "1      1.414214     -0.083624    -0.242536         -0.145865   -0.118678  \n",
      "2     -0.707107     -0.083624    -0.242536         -0.145865   -0.118678  \n",
      "3     -0.707107     -0.083624    -0.242536         -0.145865   -0.118678  \n",
      "4      1.414214     -0.083624    -0.242536         -0.145865   -0.118678  \n",
      "\n",
      "MinMax Scaled Data (first 5 rows):\n",
      "         age    salary  gender  company_Congnizant  company_Infosys  \\\n",
      "0  0.081081  0.445089     0.0                 0.0              0.0   \n",
      "1  0.351351  0.445089     0.0                 0.0              1.0   \n",
      "2  0.486486  0.137817     0.0                 0.0              0.0   \n",
      "3  0.621622  0.217480     0.0                 0.0              1.0   \n",
      "4  0.162162  0.331285     0.0                 0.0              0.0   \n",
      "\n",
      "   company_Infosys Pvt Lmt  company_TCS  company_Tata Consultancy Services  \\\n",
      "0                      0.0          1.0                                0.0   \n",
      "1                      0.0          0.0                                0.0   \n",
      "2                      0.0          1.0                                0.0   \n",
      "3                      0.0          0.0                                0.0   \n",
      "4                      0.0          1.0                                0.0   \n",
      "\n",
      "   place_Calcutta  place_Chennai  place_Cochin  place_Delhi  place_Hyderabad  \\\n",
      "0             0.0            1.0           0.0          0.0              0.0   \n",
      "1             0.0            0.0           0.0          0.0              0.0   \n",
      "2             1.0            0.0           0.0          0.0              0.0   \n",
      "3             0.0            0.0           0.0          1.0              0.0   \n",
      "4             0.0            0.0           0.0          0.0              0.0   \n",
      "\n",
      "   place_Mumbai  place_Nagpur  place_Noida  place_Podicherry  place_Pune  \n",
      "0           0.0           0.0          0.0               0.0         0.0  \n",
      "1           1.0           0.0          0.0               0.0         0.0  \n",
      "2           0.0           0.0          0.0               0.0         0.0  \n",
      "3           0.0           0.0          0.0               0.0         0.0  \n",
      "4           1.0           0.0          0.0               0.0         0.0  \n"
     ]
    }
   ],
   "source": [
    "print(\"\\nFeature Scaling\")\n",
    "scaler_std = StandardScaler()\n",
    "scaler_mm = MinMaxScaler()\n",
    "\n",
    "df_std_scaled = df.copy()\n",
    "df_mm_scaled = df.copy()\n",
    "\n",
    "df_std_scaled[df.columns] = scaler_std.fit_transform(df)\n",
    "df_mm_scaled[df.columns] = scaler_mm.fit_transform(df)\n",
    "\n",
    "print(\"Standard Scaled Data (first 5 rows):\\n\", df_std_scaled.head())\n",
    "print(\"\\nMinMax Scaled Data (first 5 rows):\\n\", df_mm_scaled.head())"
   ]
  },
  {
   "cell_type": "code",
   "execution_count": null,
   "id": "dfa5a1c3",
   "metadata": {},
   "outputs": [],
   "source": []
  }
 ],
 "metadata": {
  "kernelspec": {
   "display_name": "Python 3 (ipykernel)",
   "language": "python",
   "name": "python3"
  },
  "language_info": {
   "codemirror_mode": {
    "name": "ipython",
    "version": 3
   },
   "file_extension": ".py",
   "mimetype": "text/x-python",
   "name": "python",
   "nbconvert_exporter": "python",
   "pygments_lexer": "ipython3",
   "version": "3.10.9"
  }
 },
 "nbformat": 4,
 "nbformat_minor": 5
}
